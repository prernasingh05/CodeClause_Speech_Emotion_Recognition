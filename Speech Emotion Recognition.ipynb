{
  "nbformat": 4,
  "nbformat_minor": 0,
  "metadata": {
    "colab": {
      "provenance": []
    },
    "kernelspec": {
      "name": "python3",
      "display_name": "Python 3"
    },
    "language_info": {
      "name": "python"
    }
  },
  "cells": [
    {
      "cell_type": "markdown",
      "source": [
        "# **SPEECH EMOTION RECOGNITION**\n",
        "\n",
        "## **Data Source :**\n",
        "\n",
        "We use the dataset available at https://www.kaggle.com/datasets/uwrfkaggler/ravdess-emotional-speech-audio\n",
        "\n",
        "### **About Dataset**\n",
        "Ryerson Audio-Visual Database of Emotional Speech and Song (RAVDESS)\n",
        "\n",
        "**Files :**\n",
        "\n",
        "This portion of the RAVDESS contains 1440 files: 60 trials per actor x 24 actors = 1440. The RAVDESS contains 24 professional actors (12 female, 12 male), vocalizing two lexically-matched statements in a neutral North American accent. Speech emotions includes calm, happy, sad, angry, fearful, surprise, and disgust expressions. Each expression is produced at two levels of emotional intensity (normal, strong), with an additional neutral expression.\n",
        "\n",
        "\n",
        "\n",
        "**File naming convention :**\n",
        "\n",
        "Each of the 1440 files has a unique filename. The filename consists of a 7-part numerical identifier (e.g., 03-01-06-01-02-01-12.wav). These identifiers define the stimulus characteristics - \n",
        "\n",
        "\n",
        "\n",
        "\n",
        "**Filename identifiers :**\n",
        "\n",
        "\n",
        "\n",
        "*   Modality (01 = full-AV, 02 = video-only, 03 = audio-only).\n",
        "*   Vocal channel (01 = speech, 02 = song).\n",
        "*   Emotion (01 = neutral, 02 = calm, 03 = happy, 04 = sad, 05 = angry, 06 = fearful, 07 = disgust, 08 = surprised).\n",
        "*   Emotional intensity (01 = normal, 02 = strong). NOTE: There is no strong intensity for the 'neutral' emotion.\n",
        "*   Statement (01 = \"Kids are talking by the door\", 02 = \"Dogs are sitting by the door\").\n",
        "*   Repetition (01 = 1st repetition, 02 = 2nd repetition).\n",
        "*   Actor (01 to 24. Odd numbered actors are male, even numbered actors are female).\n",
        "\n",
        "\n",
        "\n",
        "**Filename example: \"03-01-06-01-02-01-12.wav\"**\n",
        "\n",
        "\n",
        "*   Audio-only (03)\n",
        "*   Speech (01)\n",
        "*   Fearful (06)\n",
        "*   Normal intensity (01)\n",
        "*   Statement \"dogs\" (02)\n",
        "*   1st Repetition (01)\n",
        "*   12th Actor (12)\n",
        "Female, as the actor ID number is even."
      ],
      "metadata": {
        "id": "mLN5-gfm6Ewk"
      }
    },
    {
      "cell_type": "markdown",
      "source": [
        "Mount Google Drive as a file system. It allows access and work with files stored in your Google Drive within the Colab environment."
      ],
      "metadata": {
        "id": "_fSOsrws9aXZ"
      }
    },
    {
      "cell_type": "code",
      "source": [
        "from google.colab import drive\n",
        "drive.mount('/content/drive')"
      ],
      "metadata": {
        "colab": {
          "base_uri": "https://localhost:8080/"
        },
        "id": "dCGt3O8j8Vmf",
        "outputId": "4ef44cde-eebb-487e-a12b-9d0dd210d1eb"
      },
      "execution_count": 1,
      "outputs": [
        {
          "output_type": "stream",
          "name": "stdout",
          "text": [
            "Mounted at /content/drive\n"
          ]
        }
      ]
    },
    {
      "cell_type": "markdown",
      "source": [
        "Import os, which provides a way to interact with the operating system.\n",
        "\n",
        "Now, the variable **\"Root\"** consists of \"/content/drive/MyDrive/archive/audio_speech_actors_01-24\". This path represents the location of a directory containing audio files.\n",
        "\n",
        "Then, **\"os.chdir(Root)\"** changes the current working directory to the directory specified by the Root variable."
      ],
      "metadata": {
        "id": "fd2EGQxX-BnA"
      }
    },
    {
      "cell_type": "code",
      "metadata": {
        "id": "4CKPHhxqoeid"
      },
      "source": [
        "import os\n",
        "Root = \"/content/drive/MyDrive/archive/audio_speech_actors_01-24\"\n",
        "os.chdir(Root)"
      ],
      "execution_count": 2,
      "outputs": []
    },
    {
      "cell_type": "code",
      "metadata": {
        "colab": {
          "base_uri": "https://localhost:8080/"
        },
        "id": "CHlkrPZPpXlI",
        "outputId": "bb7b08a9-09e0-46b8-a7ac-3e34c4a464a4"
      },
      "source": [
        "ls"
      ],
      "execution_count": 3,
      "outputs": [
        {
          "output_type": "stream",
          "name": "stdout",
          "text": [
            "\u001b[0m\u001b[01;34mActor_01\u001b[0m/  \u001b[01;34mActor_05\u001b[0m/  \u001b[01;34mActor_09\u001b[0m/  \u001b[01;34mActor_13\u001b[0m/  \u001b[01;34mActor_17\u001b[0m/  \u001b[01;34mActor_21\u001b[0m/\n",
            "\u001b[01;34mActor_02\u001b[0m/  \u001b[01;34mActor_06\u001b[0m/  \u001b[01;34mActor_10\u001b[0m/  \u001b[01;34mActor_14\u001b[0m/  \u001b[01;34mActor_18\u001b[0m/  \u001b[01;34mActor_22\u001b[0m/\n",
            "\u001b[01;34mActor_03\u001b[0m/  \u001b[01;34mActor_07\u001b[0m/  \u001b[01;34mActor_11\u001b[0m/  \u001b[01;34mActor_15\u001b[0m/  \u001b[01;34mActor_19\u001b[0m/  \u001b[01;34mActor_23\u001b[0m/\n",
            "\u001b[01;34mActor_04\u001b[0m/  \u001b[01;34mActor_08\u001b[0m/  \u001b[01;34mActor_12\u001b[0m/  \u001b[01;34mActor_16\u001b[0m/  \u001b[01;34mActor_20\u001b[0m/  \u001b[01;34mActor_24\u001b[0m/\n"
          ]
        }
      ]
    },
    {
      "cell_type": "markdown",
      "source": [
        "## **Import Libraries**"
      ],
      "metadata": {
        "id": "-1j91apa-x4A"
      }
    },
    {
      "cell_type": "code",
      "metadata": {
        "id": "_IehQoF0pZxl"
      },
      "source": [
        "import numpy as np\n",
        "import pandas as pd\n",
        "import matplotlib.pyplot as plt\n",
        "import librosa\n",
        "from librosa import display\n",
        "import soundfile\n",
        "import os\n",
        "import glob\n",
        "\n",
        "from sklearn.model_selection import train_test_split\n",
        "\n",
        "from sklearn.neural_network import MLPClassifier\n",
        "from sklearn.metrics import accuracy_score\n",
        "from sklearn.metrics import f1_score"
      ],
      "execution_count": 4,
      "outputs": []
    },
    {
      "cell_type": "markdown",
      "source": [
        "The sound file with specified path is loaded into the variable **\"data\"** and the corresponding sampling rate is assigned to the variable **\"sampling_rate\"**, by using the **librosa.load()** function.\n",
        "\n",
        "**librosa.display.waveshow()** function is used to displays the waveform of the audio data."
      ],
      "metadata": {
        "id": "BDbEYB9nE3_9"
      }
    },
    {
      "cell_type": "code",
      "source": [
        "data, sampling_rate = librosa.load('/content/drive/MyDrive/archive/Actor_01/03-01-01-01-01-01-01.wav')    # load sound file & sample rate\n",
        "plt.figure(figsize=(10, 3))\n",
        "librosa.display.waveshow(data, sr=sampling_rate)                   # display waveform"
      ],
      "metadata": {
        "colab": {
          "base_uri": "https://localhost:8080/",
          "height": 328
        },
        "id": "jb_a13qNAw65",
        "outputId": "e5a8ef6d-e035-4b86-ea85-d739b7871c28"
      },
      "execution_count": 5,
      "outputs": [
        {
          "output_type": "execute_result",
          "data": {
            "text/plain": [
              "<librosa.display.AdaptiveWaveplot at 0x7f5d8bf4f550>"
            ]
          },
          "metadata": {},
          "execution_count": 5
        },
        {
          "output_type": "display_data",
          "data": {
            "text/plain": [
              "<Figure size 1000x300 with 1 Axes>"
            ],
            "image/png": "[encoded data removed]"
          },
          "metadata": {}
        }
      ]
    },
    {
      "cell_type": "markdown",
      "source": [
        "Waveform for another sound file."
      ],
      "metadata": {
        "id": "NTRhkqyenyj2"
      }
    },
    {
      "cell_type": "code",
      "source": [
        "data, sampling_rate = librosa.load('/content/drive/MyDrive/archive/Actor_01/03-01-03-01-02-02-01.wav')    # load sound file & sample rate\n",
        "plt.figure(figsize=(10, 3))\n",
        "librosa.display.waveshow(data, sr=sampling_rate)                    # display waveform"
      ],
      "metadata": {
        "colab": {
          "base_uri": "https://localhost:8080/",
          "height": 328
        },
        "id": "e-dPckHqF4ws",
        "outputId": "375811a1-cc50-4393-f377-148e035778d8"
      },
      "execution_count": 6,
      "outputs": [
        {
          "output_type": "execute_result",
          "data": {
            "text/plain": [
              "<librosa.display.AdaptiveWaveplot at 0x7f5d9bc15f00>"
            ]
          },
          "metadata": {},
          "execution_count": 6
        },
        {
          "output_type": "display_data",
          "data": {
            "text/plain": [
              "<Figure size 1000x300 with 1 Axes>"
            ],
            "image/png": "[encoded data removed]"
          },
          "metadata": {}
        }
      ]
    },
    {
      "cell_type": "markdown",
      "source": [
        "Wavwform for another sound file."
      ],
      "metadata": {
        "id": "6kpVOQCo_FcH"
      }
    },
    {
      "cell_type": "code",
      "source": [
        "data, sampling_rate = librosa.load('/content/drive/MyDrive/archive/Actor_01/03-01-07-02-01-02-01.wav')    # load sound file & sample rate\n",
        "plt.figure(figsize=(10, 3))\n",
        "librosa.display.waveshow(data, sr=sampling_rate)                    # display waveform"
      ],
      "metadata": {
        "colab": {
          "base_uri": "https://localhost:8080/",
          "height": 328
        },
        "id": "UgB9KmaU_DsL",
        "outputId": "588e0346-869c-47ab-8d51-518f66fd1d0b"
      },
      "execution_count": 8,
      "outputs": [
        {
          "output_type": "execute_result",
          "data": {
            "text/plain": [
              "<librosa.display.AdaptiveWaveplot at 0x7f5d8bf639a0>"
            ]
          },
          "metadata": {},
          "execution_count": 8
        },
        {
          "output_type": "display_data",
          "data": {
            "text/plain": [
              "<Figure size 1000x300 with 1 Axes>"
            ],
            "image/png": "[encoded data removed]"
          },
          "metadata": {}
        }
      ]
    },
    {
      "cell_type": "markdown",
      "source": [
        "### **Feature Extraction**\n",
        "\n",
        "Now, we extract the features from the sound file.\n",
        "\n",
        "The function takes four parameters : **file_name, mfcc, chroma, and mel**. These parameters determine which features to extract from the sound file.\n",
        "\n",
        "The function uses the **soundfile.SoundFile()** context manager to open the sound file specified by **\"file_name\"**.\n",
        "\n",
        "\n",
        "\n",
        "*   If **\"chroma\"** is True, the function calculates the **Short-Time Fourier Transform (STFT)** of the audio signal using librosa.stft(X) and takes the absolute value using **np.abs()**. This is stored in the stft variable.\n",
        "\n",
        "*   If **\"mfcc\"** is True, the function calculates the **Mel-frequency Cepstral Coefficients (MFCCs)** using **librosa.feature.mfcc()** and takes the mean across the time axis (axis=0). The resulting MFCCs are stored in the **\"mfccs\"** variable. The MFCCs are then stacked horizontally with the result array using **np.hstack()**.\n",
        "\n",
        "\n",
        "\n",
        "*   If **\"chroma\"** is True, the function calculates the **chroma** feature using **librosa.feature.chroma_stft()** on the stft array and takes the mean across the time axis. The resulting chroma feature is stored in the **\"chroma\"** variable. The chroma feature is then stacked horizontally with the result array using **np.hstack()**.\n",
        "\n",
        "\n",
        "*   If **\"mel\"** is True, the function calculates the **mel spectrogram** using **librosa.feature.melspectrogram()**. The mel spectrogram is then averaged across the time axis, and the result is stored in the **\"mel\"** variable. The mel spectrogram is then stacked horizontally with the result array using **np.hstack()**.\n",
        "\n",
        "\n",
        "\n"
      ],
      "metadata": {
        "id": "MEfUPEUx_rJR"
      }
    },
    {
      "cell_type": "code",
      "metadata": {
        "id": "cOrKu9Cnphen"
      },
      "source": [
        "# function to extract features from sound file\n",
        "\n",
        "def extract_feature(file_name, mfcc, chroma, mel):                # mfcc, chroma, mel need to be extracted\n",
        "    with soundfile.SoundFile(file_name) as sound_file:            # open sound file\n",
        "        X = sound_file.read(dtype=\"float32\")                      # read sound file\n",
        "        sample_rate=sound_file.samplerate                         # obtain sample rate \n",
        "        if chroma:\n",
        "            stft=np.abs(librosa.stft(X))                         # if chroma=true, calculate STFT\n",
        "        result=np.array([])                                 # empty numpy array\n",
        "        if mfcc:\n",
        "            mfccs=np.mean(librosa.feature.mfcc(y=X, sr=sample_rate, n_mfcc=40).T, axis=0)    # if mfcc=true, calc MFCCs\n",
        "            result=np.hstack((result, mfccs))                               # store mfccs horizontally in result\n",
        "        if chroma:\n",
        "            chroma=np.mean(librosa.feature.chroma_stft(S=stft, sr=sample_rate).T,axis=0)    # if chroma=true, calc chroma feature\n",
        "            result=np.hstack((result, chroma))                     # store result horizonatlly in result numpy array\n",
        "        if mel:\n",
        "            mel=np.mean(librosa.feature.melspectrogram(X, sr=sample_rate).T,axis=0)      # if mel=true, calc MEl spectrogram\n",
        "            result=np.hstack((result, mel))                        # store result horizonatlly in result numpy array\n",
        "    return result                   # return result in array from"
      ],
      "execution_count": null,
      "outputs": []
    },
    {
      "cell_type": "markdown",
      "source": [
        "Now make a dictionary called **\"emotions\"** that maps numerical codes to their corresponding emotion labels. Each emotion is associated with a two-digit code, ranging from **'01'** to **'08'**.\n",
        "\n",
        "The list **\"observed_emotions\"** contains a selection of emotions that we are interested in observing. It includes the emotions **'calm', 'happy', 'fearful',** and **'disgust'**."
      ],
      "metadata": {
        "id": "IVBcVxG_GT33"
      }
    },
    {
      "cell_type": "code",
      "metadata": {
        "id": "ljV0QLcXpmRP"
      },
      "source": [
        " # emotions in the RAVDESS dataset\n",
        "\n",
        "emotions = {'01':'neutral', '02':'calm', '03':'happy', '04':'sad', \n",
        "          '05':'angry', '06':'fearful', '07':'disgust','08':'surprised'}\n",
        "\n",
        "\n",
        "observed_emotions = ['calm', 'happy', 'fearful', 'disgust']               # emotions to observe"
      ],
      "execution_count": null,
      "outputs": []
    },
    {
      "cell_type": "markdown",
      "source": [
        "Now, we make a function called **\"load_data()\"** that is used to load the sound files from a specified directory and extract features from them.\n",
        "\n",
        "\n",
        "\n",
        "*   The function takes an optional parameter **test_size** which determines the proportion of data to be allocated for testing. By default, it is set to 0.2, meaning 20% of the data will be used for testing.\n",
        "\n",
        "*   Two empty lists x and y are initialized. These lists will store the extracted features (x) and corresponding emotions (y) for each sound file.\n",
        "\n",
        "\n",
        "*   **\"glob.glob()\"** function is used to iterate through all the sound files in the specified directory.\n",
        "\n",
        "*   For each file, the base name of the file is obtained using **\"os.path.basename(file)\"**. This extracts the filename without the directory path.\n",
        "\n",
        "\n",
        "*   The emotion of the file is determined by splitting the file name using the **\"-\"** character and accessing the corresponding emotion from the emotions dictionary. The file name has a specific format where the emotion code is located at the third position when split.\n",
        "\n",
        "*   The **\"extract_feature()\"** function is called to extract features from the current sound file.\n",
        "\n",
        "\n",
        "\n",
        "*   Finally, the function returns the train-test split of the feature and emotion data using **\"train_test_split()\"** from the **sklearn.model_selection** module. The **\"np.array(x)\"** represents the feature data, **\"y\"** represents the emotion data, and **\"test_size\"** determines the proportion of data allocated for testing. The **random state** is set to **9** for reproducibility.\n",
        "\n",
        "\n",
        "\n",
        "\n",
        "\n",
        "\n",
        "\n",
        "\n"
      ],
      "metadata": {
        "id": "cGaCEhYXoHVo"
      }
    },
    {
      "cell_type": "code",
      "metadata": {
        "id": "O46uIg3kpzrG"
      },
      "source": [
        "# funation to load data & extract features for each sound file\n",
        "\n",
        "def load_data(test_size=0.2):                            \n",
        "    x,y = [],[]                                  # empty list to store extracted features & corresponding emotions\n",
        "\n",
        "    for file in glob.glob(\"/content/drive/MyDrive/archive/audio_speech_actors_01-24*/*.wav\"):        # iterate through all sound file\n",
        "        file_name=os.path.basename(file)\n",
        "        emotion=emotions[file_name.split(\"-\")[2]]                  # extract the emotion of sound file\n",
        "        if emotion not in observed_emotions:\n",
        "            continue\n",
        "        feature=extract_feature(file, mfcc=True, chroma=True, mel=True)       # call function to extract (mfcc, mel, chroma) features\n",
        "        x.append(feature)                             # append features in x\n",
        "        y.append(emotion)                             # append their corresponding emotion to y\n",
        "    return train_test_split(np.array(x), y, test_size = test_size, random_state = 9)            # return the train-test-split data"
      ],
      "execution_count": null,
      "outputs": []
    },
    {
      "cell_type": "markdown",
      "source": [
        "Split the dataset into **training** and **testing** sets using the **\"load_data()\"** function.\n",
        "\n",
        "The **load_data()** function is called with the argument **\"test_size = 0.25\"**"
      ],
      "metadata": {
        "id": "Kk9UmlRVwYvb"
      }
    },
    {
      "cell_type": "code",
      "metadata": {
        "id": "gE_MSQYDqPqg"
      },
      "source": [
        "x_train, x_test, y_train, y_test = load_data(test_size=0.25)                      # split the dataset"
      ],
      "execution_count": null,
      "outputs": []
    },
    {
      "cell_type": "markdown",
      "source": [
        "Let's see the **\"x_train\"**."
      ],
      "metadata": {
        "id": "KPBzac8txI_E"
      }
    },
    {
      "cell_type": "code",
      "metadata": {
        "colab": {
          "base_uri": "https://localhost:8080/"
        },
        "id": "Fo872mW8urUM",
        "outputId": "38e80fb8-a449-4578-c140-bccbc724a593"
      },
      "source": [
        "x_train"
      ],
      "execution_count": null,
      "outputs": [
        {
          "output_type": "execute_result",
          "data": {
            "text/plain": [
              "array([[-6.02389954e+02,  5.97717743e+01,  8.60734844e+00, ...,\n",
              "         2.24425294e-05,  7.05290176e-06,  3.74911019e-06],\n",
              "       [-6.64690369e+02,  6.82226181e+01,  6.91438007e+00, ...,\n",
              "         1.92348180e-05,  1.16888250e-05,  1.09572538e-05],\n",
              "       [-5.56770630e+02,  3.49958611e+01, -1.21606884e+01, ...,\n",
              "         1.56850641e-04,  9.86818704e-05,  6.10335883e-05],\n",
              "       ...,\n",
              "       [-6.41358337e+02,  4.56047516e+01,  3.17263484e-01, ...,\n",
              "         3.32857708e-05,  2.42486913e-05,  1.74304023e-05],\n",
              "       [-6.41742493e+02,  3.81749878e+01, -8.41347885e+00, ...,\n",
              "         3.26658337e-05,  2.97957540e-05,  2.17277611e-05],\n",
              "       [-7.70246155e+02,  3.43720894e+01,  5.50091887e+00, ...,\n",
              "         4.58828936e-06,  2.15270302e-06,  1.44739533e-06]])"
            ]
          },
          "metadata": {
            "tags": []
          },
          "execution_count": 40
        }
      ]
    },
    {
      "cell_type": "markdown",
      "source": [
        "Print the number of samples in the training and testing sets of the dataset.\n",
        "\n",
        "**\"x_train.shape[0]\"** returns the number of samples in the training set.\n",
        "\n",
        "**\"x_test.shape[0]\"** returns the number of samples in the testing set."
      ],
      "metadata": {
        "id": "p2QkiCp6xyVG"
      }
    },
    {
      "cell_type": "code",
      "metadata": {
        "colab": {
          "base_uri": "https://localhost:8080/"
        },
        "id": "cNIOCRQ6qWOq",
        "outputId": "614efdc6-f7bb-445b-d90b-034cd79feaa1"
      },
      "source": [
        "print((x_train.shape[0], x_test.shape[0]))                         # print shape of x_train and x_test datasets"
      ],
      "execution_count": null,
      "outputs": [
        {
          "output_type": "stream",
          "text": [
            "(576, 192)\n"
          ],
          "name": "stdout"
        }
      ]
    },
    {
      "cell_type": "markdown",
      "source": [
        "Print the number of features that have been extracted from the dataset."
      ],
      "metadata": {
        "id": "IM45KnRJySlr"
      }
    },
    {
      "cell_type": "code",
      "metadata": {
        "colab": {
          "base_uri": "https://localhost:8080/"
        },
        "id": "XqoLMHgsqcP8",
        "outputId": "33a54b84-018c-4078-8182-e8127fc645eb"
      },
      "source": [
        "print(f'Features extracted: {x_train.shape[1]}')                 # number of features extracted"
      ],
      "execution_count": null,
      "outputs": [
        {
          "output_type": "stream",
          "text": [
            "Features extracted: 180\n"
          ],
          "name": "stdout"
        }
      ]
    },
    {
      "cell_type": "markdown",
      "source": [
        "## **Multi-Layer Perceptron**\n",
        "\n",
        " First, create an instance of the **\"MLPClassifier\"** class.\n",
        "\n",
        "\n",
        "\n",
        "*   **alpha :** It controls the L2 regularization term to prevent overfitting. A smaller value indicates stronger regularization.\n",
        "\n",
        "*   **batch_size :** It determines the number of samples per gradient update during training.  Here, batch_size --> 256.\n",
        "\n",
        "\n",
        "*   **epsilon :** It is a small value added to the denominator to avoid division by zero errors during training. Here, epsilon --> 1e-08.\n",
        "\n",
        "*   **hidden_layer_sizes :** It specifies the number of neurons in each hidden layer. In this case, there is a single hidden layer with **300 neurons**.\n",
        "\n",
        "*   **learning_rate :** It determines how the learning rate is adapted during training. **'adaptive'** means the learning rate is adjusted based on the validation score.\n",
        "\n",
        "*   **max_iter :** specifies the maximum number of iterations or epochs for training. Here. max_iter --> 500\n",
        "\n",
        "\n",
        "\n",
        "\n",
        "\n"
      ],
      "metadata": {
        "id": "z2wLcnwSzBlH"
      }
    },
    {
      "cell_type": "code",
      "metadata": {
        "id": "bQsjvZiwqcTN"
      },
      "source": [
        "# initialize the multi layer perceptron classifier\n",
        "\n",
        "model = MLPClassifier(alpha = 0.01, batch_size = 256, epsilon = 1e-08, hidden_layer_sizes = (300,), \n",
        "                    learning_rate = 'adaptive', max_iter = 500)"
      ],
      "execution_count": null,
      "outputs": []
    },
    {
      "cell_type": "markdown",
      "source": [
        "Now, train the model on the training dataset i.e, x_train and y_train."
      ],
      "metadata": {
        "id": "DzVGv7bm17NH"
      }
    },
    {
      "cell_type": "code",
      "metadata": {
        "colab": {
          "base_uri": "https://localhost:8080/"
        },
        "id": "tmZiXDHPqcV5",
        "outputId": "b7d8eb01-729f-42bc-c9ca-ff87ce02540f"
      },
      "source": [
        "model.fit(x_train, y_train)                                # train the model"
      ],
      "execution_count": null,
      "outputs": [
        {
          "output_type": "execute_result",
          "data": {
            "text/plain": [
              "MLPClassifier(activation='relu', alpha=0.01, batch_size=256, beta_1=0.9,\n",
              "              beta_2=0.999, early_stopping=False, epsilon=1e-08,\n",
              "              hidden_layer_sizes=(300,), learning_rate='adaptive',\n",
              "              learning_rate_init=0.001, max_fun=15000, max_iter=500,\n",
              "              momentum=0.9, n_iter_no_change=10, nesterovs_momentum=True,\n",
              "              power_t=0.5, random_state=None, shuffle=True, solver='adam',\n",
              "              tol=0.0001, validation_fraction=0.1, verbose=False,\n",
              "              warm_start=False)"
            ]
          },
          "metadata": {
            "tags": []
          },
          "execution_count": 45
        }
      ]
    },
    {
      "cell_type": "markdown",
      "source": [
        "Use **\"predict()\"** function on the trained model to make predictions on the testing dataset i.e, x_test data."
      ],
      "metadata": {
        "id": "aEBd5YOf2NT_"
      }
    },
    {
      "cell_type": "code",
      "metadata": {
        "id": "lumz8vRQqcYs"
      },
      "source": [
        "y_pred = model.predict(x_test)                      # predictions for testing data"
      ],
      "execution_count": null,
      "outputs": []
    },
    {
      "cell_type": "markdown",
      "source": [
        "Predictions generated by the trained model on the testing data."
      ],
      "metadata": {
        "id": "5qo78Ju13ZnL"
      }
    },
    {
      "cell_type": "code",
      "metadata": {
        "colab": {
          "base_uri": "https://localhost:8080/"
        },
        "id": "m604kmiFtxLP",
        "outputId": "9d7e1922-1bec-4a52-d98f-2568fe627d21"
      },
      "source": [
        "y_pred                         # predictions"
      ],
      "execution_count": null,
      "outputs": [
        {
          "output_type": "execute_result",
          "data": {
            "text/plain": [
              "array(['calm', 'disgust', 'calm', 'happy', 'calm', 'happy', 'disgust',\n",
              "       'calm', 'happy', 'fearful', 'calm', 'fearful', 'disgust',\n",
              "       'fearful', 'fearful', 'calm', 'happy', 'fearful', 'disgust',\n",
              "       'calm', 'happy', 'happy', 'fearful', 'happy', 'happy', 'calm',\n",
              "       'disgust', 'calm', 'happy', 'happy', 'happy', 'calm', 'happy',\n",
              "       'happy', 'fearful', 'calm', 'disgust', 'calm', 'happy', 'disgust',\n",
              "       'calm', 'disgust', 'happy', 'happy', 'calm', 'fearful', 'calm',\n",
              "       'fearful', 'calm', 'happy', 'happy', 'disgust', 'fearful', 'calm',\n",
              "       'fearful', 'happy', 'fearful', 'disgust', 'disgust', 'calm',\n",
              "       'happy', 'fearful', 'disgust', 'fearful', 'fearful', 'calm',\n",
              "       'happy', 'happy', 'calm', 'happy', 'fearful', 'calm', 'calm',\n",
              "       'calm', 'disgust', 'calm', 'fearful', 'happy', 'happy', 'disgust',\n",
              "       'happy', 'fearful', 'fearful', 'fearful', 'calm', 'calm', 'calm',\n",
              "       'disgust', 'happy', 'calm', 'happy', 'calm', 'calm', 'fearful',\n",
              "       'calm', 'calm', 'calm', 'fearful', 'happy', 'fearful', 'calm',\n",
              "       'calm', 'calm', 'disgust', 'fearful', 'happy', 'disgust', 'happy',\n",
              "       'fearful', 'calm', 'happy', 'fearful', 'fearful', 'calm', 'happy',\n",
              "       'calm', 'disgust', 'calm', 'calm', 'disgust', 'calm', 'fearful',\n",
              "       'calm', 'calm', 'calm', 'disgust', 'fearful', 'calm', 'happy',\n",
              "       'fearful', 'calm', 'fearful', 'happy', 'fearful', 'calm',\n",
              "       'fearful', 'happy', 'happy', 'happy', 'fearful', 'disgust',\n",
              "       'fearful', 'disgust', 'calm', 'fearful', 'disgust', 'happy',\n",
              "       'disgust', 'disgust', 'calm', 'calm', 'happy', 'fearful', 'calm',\n",
              "       'fearful', 'calm', 'disgust', 'happy', 'happy', 'calm', 'disgust',\n",
              "       'calm', 'fearful', 'disgust', 'happy', 'calm', 'calm', 'calm',\n",
              "       'disgust', 'fearful', 'calm', 'happy', 'fearful', 'happy', 'calm',\n",
              "       'calm', 'fearful', 'disgust', 'happy', 'disgust', 'calm', 'calm',\n",
              "       'calm', 'disgust', 'disgust', 'calm', 'calm', 'fearful', 'happy',\n",
              "       'disgust', 'fearful', 'happy'], dtype='<U7')"
            ]
          },
          "metadata": {
            "tags": []
          },
          "execution_count": 47
        }
      ]
    },
    {
      "cell_type": "markdown",
      "source": [
        "Now, calculate the accuracy of the model by comparing the original results with the predictions. Then store it into the **\"accuracy\"** variable."
      ],
      "metadata": {
        "id": "iRYcRXwT4Osb"
      }
    },
    {
      "cell_type": "code",
      "source": [
        "accuracy = accuracy_score(y_true=y_test, y_pred=y_pred)             # calculate accuracy of model"
      ],
      "metadata": {
        "id": "J1U5ahZg3oKn"
      },
      "execution_count": null,
      "outputs": []
    },
    {
      "cell_type": "markdown",
      "source": [
        "Print the accuracy of the model."
      ],
      "metadata": {
        "id": "zlLe3Xlp4oC8"
      }
    },
    {
      "cell_type": "code",
      "metadata": {
        "colab": {
          "base_uri": "https://localhost:8080/"
        },
        "id": "IrCVcauwqkFs",
        "outputId": "89aad7da-00e2-45de-9fe5-15b5190063ca"
      },
      "source": [
        "print(\"Accuracy: {:.2f}%\".format(accuracy*100))                      # print accuracy"
      ],
      "execution_count": null,
      "outputs": [
        {
          "output_type": "stream",
          "text": [
            "Accuracy: 73.44%\n"
          ],
          "name": "stdout"
        }
      ]
    },
    {
      "cell_type": "markdown",
      "source": [
        "Here, the accuracy of the model is **73.44%** which can be increased by hyperparameter tuning."
      ],
      "metadata": {
        "id": "-dYT9x1y-bPD"
      }
    },
    {
      "cell_type": "markdown",
      "source": [
        "Now, calculate the **F1 score** for each class in a multi-class classification problem."
      ],
      "metadata": {
        "id": "V2KkfHpO5Bi5"
      }
    },
    {
      "cell_type": "code",
      "metadata": {
        "colab": {
          "base_uri": "https://localhost:8080/"
        },
        "id": "_Ry4if_sqkLr",
        "outputId": "20378ec2-e8f0-4bd0-bffe-1d28cd2f9e1a"
      },
      "source": [
        "f1_score(y_test, y_pred,average=None)                         # calculate f1-score"
      ],
      "execution_count": null,
      "outputs": [
        {
          "output_type": "execute_result",
          "data": {
            "text/plain": [
              "array([0.8173913 , 0.65822785, 0.70967742, 0.72164948])"
            ]
          },
          "metadata": {
            "tags": []
          },
          "execution_count": 50
        }
      ]
    },
    {
      "cell_type": "markdown",
      "source": [
        "Create a new dataframe named **\"df\"** which consists of two columns i.e, **\"Actual\"** and **\"Predicted\"**.\n",
        "\n",
        "\"Actual\" consists of the original emotions of the sound files.\n",
        "\"Predicted\" consists of the predicted emotions generated by the model.\n"
      ],
      "metadata": {
        "id": "1LCvHogg9oxi"
      }
    },
    {
      "cell_type": "code",
      "metadata": {
        "colab": {
          "base_uri": "https://localhost:8080/",
          "height": 611
        },
        "id": "0Rt9YfZkCO5A",
        "outputId": "a0bff042-6fd2-466f-b043-5bb27cb96eda"
      },
      "source": [
        "df = pd.DataFrame({'Actual': y_test, 'Predicted':y_pred})                    # new dataframe \n",
        "df.head(20)"
      ],
      "execution_count": null,
      "outputs": [
        {
          "output_type": "execute_result",
          "data": {
            "text/html": [
              "<div>\n",
              "<style scoped>\n",
              "    .dataframe tbody tr th:only-of-type {\n",
              "        vertical-align: middle;\n",
              "    }\n",
              "\n",
              "    .dataframe tbody tr th {\n",
              "        vertical-align: top;\n",
              "    }\n",
              "\n",
              "    .dataframe thead th {\n",
              "        text-align: right;\n",
              "    }\n",
              "</style>\n",
              "<table border=\"1\" class=\"dataframe\">\n",
              "  <thead>\n",
              "    <tr style=\"text-align: right;\">\n",
              "      <th></th>\n",
              "      <th>Actual</th>\n",
              "      <th>Predicted</th>\n",
              "    </tr>\n",
              "  </thead>\n",
              "  <tbody>\n",
              "    <tr>\n",
              "      <th>0</th>\n",
              "      <td>calm</td>\n",
              "      <td>calm</td>\n",
              "    </tr>\n",
              "    <tr>\n",
              "      <th>1</th>\n",
              "      <td>disgust</td>\n",
              "      <td>disgust</td>\n",
              "    </tr>\n",
              "    <tr>\n",
              "      <th>2</th>\n",
              "      <td>calm</td>\n",
              "      <td>calm</td>\n",
              "    </tr>\n",
              "    <tr>\n",
              "      <th>3</th>\n",
              "      <td>happy</td>\n",
              "      <td>happy</td>\n",
              "    </tr>\n",
              "    <tr>\n",
              "      <th>4</th>\n",
              "      <td>happy</td>\n",
              "      <td>calm</td>\n",
              "    </tr>\n",
              "    <tr>\n",
              "      <th>5</th>\n",
              "      <td>happy</td>\n",
              "      <td>happy</td>\n",
              "    </tr>\n",
              "    <tr>\n",
              "      <th>6</th>\n",
              "      <td>disgust</td>\n",
              "      <td>disgust</td>\n",
              "    </tr>\n",
              "    <tr>\n",
              "      <th>7</th>\n",
              "      <td>disgust</td>\n",
              "      <td>calm</td>\n",
              "    </tr>\n",
              "    <tr>\n",
              "      <th>8</th>\n",
              "      <td>happy</td>\n",
              "      <td>happy</td>\n",
              "    </tr>\n",
              "    <tr>\n",
              "      <th>9</th>\n",
              "      <td>fearful</td>\n",
              "      <td>fearful</td>\n",
              "    </tr>\n",
              "    <tr>\n",
              "      <th>10</th>\n",
              "      <td>calm</td>\n",
              "      <td>calm</td>\n",
              "    </tr>\n",
              "    <tr>\n",
              "      <th>11</th>\n",
              "      <td>disgust</td>\n",
              "      <td>fearful</td>\n",
              "    </tr>\n",
              "    <tr>\n",
              "      <th>12</th>\n",
              "      <td>disgust</td>\n",
              "      <td>disgust</td>\n",
              "    </tr>\n",
              "    <tr>\n",
              "      <th>13</th>\n",
              "      <td>fearful</td>\n",
              "      <td>fearful</td>\n",
              "    </tr>\n",
              "    <tr>\n",
              "      <th>14</th>\n",
              "      <td>disgust</td>\n",
              "      <td>fearful</td>\n",
              "    </tr>\n",
              "    <tr>\n",
              "      <th>15</th>\n",
              "      <td>calm</td>\n",
              "      <td>calm</td>\n",
              "    </tr>\n",
              "    <tr>\n",
              "      <th>16</th>\n",
              "      <td>happy</td>\n",
              "      <td>happy</td>\n",
              "    </tr>\n",
              "    <tr>\n",
              "      <th>17</th>\n",
              "      <td>fearful</td>\n",
              "      <td>fearful</td>\n",
              "    </tr>\n",
              "    <tr>\n",
              "      <th>18</th>\n",
              "      <td>disgust</td>\n",
              "      <td>disgust</td>\n",
              "    </tr>\n",
              "    <tr>\n",
              "      <th>19</th>\n",
              "      <td>calm</td>\n",
              "      <td>calm</td>\n",
              "    </tr>\n",
              "  </tbody>\n",
              "</table>\n",
              "</div>"
            ],
            "text/plain": [
              "     Actual Predicted\n",
              "0      calm      calm\n",
              "1   disgust   disgust\n",
              "2      calm      calm\n",
              "3     happy     happy\n",
              "4     happy      calm\n",
              "5     happy     happy\n",
              "6   disgust   disgust\n",
              "7   disgust      calm\n",
              "8     happy     happy\n",
              "9   fearful   fearful\n",
              "10     calm      calm\n",
              "11  disgust   fearful\n",
              "12  disgust   disgust\n",
              "13  fearful   fearful\n",
              "14  disgust   fearful\n",
              "15     calm      calm\n",
              "16    happy     happy\n",
              "17  fearful   fearful\n",
              "18  disgust   disgust\n",
              "19     calm      calm"
            ]
          },
          "metadata": {
            "tags": []
          },
          "execution_count": 53
        }
      ]
    }
  ]
}